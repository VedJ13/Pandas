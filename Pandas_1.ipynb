{
  "nbformat": 4,
  "nbformat_minor": 0,
  "metadata": {
    "colab": {
      "provenance": [],
      "authorship_tag": "ABX9TyOspRQ1+W3eNPZ3O0ShnRia",
      "include_colab_link": true
    },
    "kernelspec": {
      "name": "python3",
      "display_name": "Python 3"
    },
    "language_info": {
      "name": "python"
    }
  },
  "cells": [
    {
      "cell_type": "markdown",
      "metadata": {
        "id": "view-in-github",
        "colab_type": "text"
      },
      "source": [
        "<a href=\"https://colab.research.google.com/github/VedJ13/Pandas/blob/main/Pandas_1.ipynb\" target=\"_parent\"><img src=\"https://colab.research.google.com/assets/colab-badge.svg\" alt=\"Open In Colab\"/></a>"
      ]
    },
    {
      "cell_type": "code",
      "execution_count": 1,
      "metadata": {
        "colab": {
          "base_uri": "https://localhost:8080/"
        },
        "id": "yf9BAxml6OvX",
        "outputId": "799606f2-898e-4a99-9f32-49f74a36b95a"
      },
      "outputs": [
        {
          "output_type": "stream",
          "name": "stdout",
          "text": [
            "Requirement already satisfied: pandas in /usr/local/lib/python3.11/dist-packages (2.2.2)\n",
            "Requirement already satisfied: numpy>=1.23.2 in /usr/local/lib/python3.11/dist-packages (from pandas) (2.0.2)\n",
            "Requirement already satisfied: python-dateutil>=2.8.2 in /usr/local/lib/python3.11/dist-packages (from pandas) (2.9.0.post0)\n",
            "Requirement already satisfied: pytz>=2020.1 in /usr/local/lib/python3.11/dist-packages (from pandas) (2025.2)\n",
            "Requirement already satisfied: tzdata>=2022.7 in /usr/local/lib/python3.11/dist-packages (from pandas) (2025.2)\n",
            "Requirement already satisfied: six>=1.5 in /usr/local/lib/python3.11/dist-packages (from python-dateutil>=2.8.2->pandas) (1.17.0)\n"
          ]
        }
      ],
      "source": [
        "pip install pandas"
      ]
    },
    {
      "cell_type": "code",
      "source": [
        "import pandas as pd"
      ],
      "metadata": {
        "id": "Jh5G-hTe6cy8"
      },
      "execution_count": 3,
      "outputs": []
    },
    {
      "cell_type": "markdown",
      "source": [
        "## Read Data from CSV file into a dataframe"
      ],
      "metadata": {
        "id": "NIyVL9dF6oFN"
      }
    },
    {
      "cell_type": "code",
      "source": [
        "df = pd.read_csv(\"/content/sample_data/california_housing_test.csv\")\n",
        "print(df)"
      ],
      "metadata": {
        "colab": {
          "base_uri": "https://localhost:8080/"
        },
        "id": "hWxJi1ps6yMa",
        "outputId": "dcc7f3cc-d1ac-4f04-fd0f-b6b49a6a6f95"
      },
      "execution_count": 4,
      "outputs": [
        {
          "output_type": "stream",
          "name": "stdout",
          "text": [
            "      longitude  latitude  housing_median_age  total_rooms  total_bedrooms  \\\n",
            "0       -122.05     37.37                27.0       3885.0           661.0   \n",
            "1       -118.30     34.26                43.0       1510.0           310.0   \n",
            "2       -117.81     33.78                27.0       3589.0           507.0   \n",
            "3       -118.36     33.82                28.0         67.0            15.0   \n",
            "4       -119.67     36.33                19.0       1241.0           244.0   \n",
            "...         ...       ...                 ...          ...             ...   \n",
            "2995    -119.86     34.42                23.0       1450.0           642.0   \n",
            "2996    -118.14     34.06                27.0       5257.0          1082.0   \n",
            "2997    -119.70     36.30                10.0        956.0           201.0   \n",
            "2998    -117.12     34.10                40.0         96.0            14.0   \n",
            "2999    -119.63     34.42                42.0       1765.0           263.0   \n",
            "\n",
            "      population  households  median_income  median_house_value  \n",
            "0         1537.0       606.0         6.6085            344700.0  \n",
            "1          809.0       277.0         3.5990            176500.0  \n",
            "2         1484.0       495.0         5.7934            270500.0  \n",
            "3           49.0        11.0         6.1359            330000.0  \n",
            "4          850.0       237.0         2.9375             81700.0  \n",
            "...          ...         ...            ...                 ...  \n",
            "2995      1258.0       607.0         1.1790            225000.0  \n",
            "2996      3496.0      1036.0         3.3906            237200.0  \n",
            "2997       693.0       220.0         2.2895             62000.0  \n",
            "2998        46.0        14.0         3.2708            162500.0  \n",
            "2999       753.0       260.0         8.5608            500001.0  \n",
            "\n",
            "[3000 rows x 9 columns]\n"
          ]
        }
      ]
    },
    {
      "cell_type": "code",
      "source": [
        "data = {\n",
        "    \"Name\" : [\"Ram\", \"Shyam\", \"Mohan\"],\n",
        "    \"Age\" : [23, 11, 42],\n",
        "    \"City\" : [\"Nagpur\", \"Mumbai\", \"Delhi\"]\n",
        "}\n",
        "\n",
        "df = pd.DataFrame(data)\n",
        "print(df)\n",
        "\n",
        "df.to_csv(\"output.csv\", index = False)\n",
        "# We can save it also in excel and json file."
      ],
      "metadata": {
        "colab": {
          "base_uri": "https://localhost:8080/"
        },
        "id": "X8RvpsFF8d3h",
        "outputId": "2c0f3260-e48a-40b0-edfc-1e1155e432c4"
      },
      "execution_count": 8,
      "outputs": [
        {
          "output_type": "stream",
          "name": "stdout",
          "text": [
            "    Name  Age    City\n",
            "0    Ram   23  Nagpur\n",
            "1  Shyam   11  Mumbai\n",
            "2  Mohan   42   Delhi\n"
          ]
        }
      ]
    },
    {
      "cell_type": "code",
      "source": [
        "df = pd.read_csv(\"/content/sample_data/california_housing_test.csv\")\n",
        "\n",
        "print('Display first 3 rows: ')\n",
        "print(df.head(3))\n",
        "\n",
        "print('Display last 3 rows: ')\n",
        "print(df.tail(3))"
      ],
      "metadata": {
        "colab": {
          "base_uri": "https://localhost:8080/"
        },
        "id": "5MmbZInI_Ypx",
        "outputId": "27b76d6b-4e70-482f-fc9e-def79f245e2c"
      },
      "execution_count": 13,
      "outputs": [
        {
          "output_type": "stream",
          "name": "stdout",
          "text": [
            "Display first 3 rows: \n",
            "   longitude  latitude  housing_median_age  total_rooms  total_bedrooms  \\\n",
            "0    -122.05     37.37                27.0       3885.0           661.0   \n",
            "1    -118.30     34.26                43.0       1510.0           310.0   \n",
            "2    -117.81     33.78                27.0       3589.0           507.0   \n",
            "\n",
            "   population  households  median_income  median_house_value  \n",
            "0      1537.0       606.0         6.6085            344700.0  \n",
            "1       809.0       277.0         3.5990            176500.0  \n",
            "2      1484.0       495.0         5.7934            270500.0  \n",
            "Display last 3 rows: \n",
            "      longitude  latitude  housing_median_age  total_rooms  total_bedrooms  \\\n",
            "2997    -119.70     36.30                10.0        956.0           201.0   \n",
            "2998    -117.12     34.10                40.0         96.0            14.0   \n",
            "2999    -119.63     34.42                42.0       1765.0           263.0   \n",
            "\n",
            "      population  households  median_income  median_house_value  \n",
            "2997       693.0       220.0         2.2895             62000.0  \n",
            "2998        46.0        14.0         3.2708            162500.0  \n",
            "2999       753.0       260.0         8.5608            500001.0  \n"
          ]
        }
      ]
    },
    {
      "cell_type": "markdown",
      "source": [
        "# Using info method to know about dataset"
      ],
      "metadata": {
        "id": "bK24yemGA3hO"
      }
    },
    {
      "cell_type": "code",
      "source": [
        "df = pd.DataFrame(data)\n",
        "print(\"Displaying the info of data set\")\n",
        "print(df.info())\n",
        "\n",
        "# Using Describe method\n",
        "print(\"Desriptive Statistics\")\n",
        "print(df.describe())\n",
        "\n",
        "# Shape and Column names\n",
        "print(f\"Shape: {df.shape}\")\n",
        "print(f\"Column Names: {df.columns}\")"
      ],
      "metadata": {
        "colab": {
          "base_uri": "https://localhost:8080/"
        },
        "id": "kIYNhns0A-KM",
        "outputId": "38c73b4e-7d31-482d-a5d6-1b5e5b86a696"
      },
      "execution_count": 16,
      "outputs": [
        {
          "output_type": "stream",
          "name": "stdout",
          "text": [
            "Displaying the info of data set\n",
            "<class 'pandas.core.frame.DataFrame'>\n",
            "RangeIndex: 3 entries, 0 to 2\n",
            "Data columns (total 3 columns):\n",
            " #   Column  Non-Null Count  Dtype \n",
            "---  ------  --------------  ----- \n",
            " 0   Name    3 non-null      object\n",
            " 1   Age     3 non-null      int64 \n",
            " 2   City    3 non-null      object\n",
            "dtypes: int64(1), object(2)\n",
            "memory usage: 204.0+ bytes\n",
            "None\n",
            "Desriptive Statistics\n",
            "             Age\n",
            "count   3.000000\n",
            "mean   25.333333\n",
            "std    15.631165\n",
            "min    11.000000\n",
            "25%    17.000000\n",
            "50%    23.000000\n",
            "75%    32.500000\n",
            "max    42.000000\n",
            "Shape: (3, 3)\n",
            "Column Names: Index(['Name', 'Age', 'City'], dtype='object')\n"
          ]
        }
      ]
    },
    {
      "cell_type": "markdown",
      "source": [
        "## Accessing Columns"
      ],
      "metadata": {
        "id": "Y2AqWgOkE4XS"
      }
    },
    {
      "cell_type": "code",
      "source": [
        "print(\"Names (Single coulmn return series)\")\n",
        "name = df[\"Name\"]\n",
        "print(name)\n",
        "\n",
        "# Selecting multiple columns\n",
        "\n",
        "subset = df[[\"Name\", \"Age\"]]\n",
        "print(\"\\n Subset with Name and Salary\")\n",
        "print(subset)"
      ],
      "metadata": {
        "colab": {
          "base_uri": "https://localhost:8080/"
        },
        "id": "mYbXS2tJFAta",
        "outputId": "c7dced8e-df6f-4b4e-e4db-6f3bc1308154"
      },
      "execution_count": 19,
      "outputs": [
        {
          "output_type": "stream",
          "name": "stdout",
          "text": [
            "Names (Single coulmn return series)\n",
            "0      Ram\n",
            "1    Shyam\n",
            "2    Mohan\n",
            "Name: Name, dtype: object\n",
            "\n",
            " Subset with Name and Salary\n",
            "    Name  Age\n",
            "0    Ram   23\n",
            "1  Shyam   11\n",
            "2  Mohan   42\n"
          ]
        }
      ]
    },
    {
      "cell_type": "code",
      "source": [
        "# Filtering Rows\n",
        "\n",
        "valid_age = df[df[\"Age\"] > 18]\n",
        "print(\"Who can vote : \")\n",
        "print(valid_age)\n",
        "\n",
        "filtered = df[(df[\"Age\"] > 18) & (df[\"Name\"] == \"Ram\")]\n",
        "print(\"List where Age > 18 and Name = Ram\")\n",
        "print(filtered)"
      ],
      "metadata": {
        "colab": {
          "base_uri": "https://localhost:8080/"
        },
        "id": "hJxlVVoRGQzh",
        "outputId": "b8e2e35a-e5e3-4448-9e5d-5d6d94c73714"
      },
      "execution_count": 21,
      "outputs": [
        {
          "output_type": "stream",
          "name": "stdout",
          "text": [
            "Who can vote : \n",
            "    Name  Age    City\n",
            "0    Ram   23  Nagpur\n",
            "2  Mohan   42   Delhi\n",
            "List where Age > 18 and Name = Ram\n",
            "  Name  Age    City\n",
            "0  Ram   23  Nagpur\n"
          ]
        }
      ]
    }
  ]
}