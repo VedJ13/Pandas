{
  "nbformat": 4,
  "nbformat_minor": 0,
  "metadata": {
    "colab": {
      "provenance": [],
      "authorship_tag": "ABX9TyMsWMBzPuKa3k9/gB/GzmcW",
      "include_colab_link": true
    },
    "kernelspec": {
      "name": "python3",
      "display_name": "Python 3"
    },
    "language_info": {
      "name": "python"
    }
  },
  "cells": [
    {
      "cell_type": "markdown",
      "metadata": {
        "id": "view-in-github",
        "colab_type": "text"
      },
      "source": [
        "<a href=\"https://colab.research.google.com/github/VedJ13/Pandas/blob/main/Pandas_2.ipynb\" target=\"_parent\"><img src=\"https://colab.research.google.com/assets/colab-badge.svg\" alt=\"Open In Colab\"/></a>"
      ]
    },
    {
      "cell_type": "markdown",
      "source": [
        "## Advanced Pandas"
      ],
      "metadata": {
        "id": "8N2Ll5UBdGXD"
      }
    },
    {
      "cell_type": "code",
      "source": [
        "import pandas as pd"
      ],
      "metadata": {
        "id": "1xde8jhaeDQg"
      },
      "execution_count": 2,
      "outputs": []
    },
    {
      "cell_type": "markdown",
      "source": [
        "### Insert operation"
      ],
      "metadata": {
        "id": "pjYqVyEBgFsb"
      }
    },
    {
      "cell_type": "code",
      "source": [
        "data = {\n",
        "    \"Name\": [None, \"Bob\", \"Charlie\", \"David\"],\n",
        "    \"Age\": [25, 30, 35, None],\n",
        "    \"City\": [\"New York\", None, \"Los Angeles\", \"Chicago\"]\n",
        "}\n",
        "\n",
        "df = pd.DataFrame(data)\n",
        "print(df)\n",
        "\n",
        "df[\"Country\"] = [\"USA\", \"UK\", None, \"USA\"]\n",
        "print(df)\n",
        "\n",
        "df.insert(2, \"Salary\", [10000, 20000, None, 40000])\n",
        "print(df)"
      ],
      "metadata": {
        "colab": {
          "base_uri": "https://localhost:8080/"
        },
        "id": "4-A19-QleFN5",
        "outputId": "01bc1d5d-bc8d-4bba-cb7d-ad1e1b174a8f"
      },
      "execution_count": 29,
      "outputs": [
        {
          "output_type": "stream",
          "name": "stdout",
          "text": [
            "      Name   Age         City\n",
            "0     None  25.0     New York\n",
            "1      Bob  30.0         None\n",
            "2  Charlie  35.0  Los Angeles\n",
            "3    David   NaN      Chicago\n",
            "      Name   Age         City Country\n",
            "0     None  25.0     New York     USA\n",
            "1      Bob  30.0         None      UK\n",
            "2  Charlie  35.0  Los Angeles    None\n",
            "3    David   NaN      Chicago     USA\n",
            "      Name   Age   Salary         City Country\n",
            "0     None  25.0  10000.0     New York     USA\n",
            "1      Bob  30.0  20000.0         None      UK\n",
            "2  Charlie  35.0      NaN  Los Angeles    None\n",
            "3    David   NaN  40000.0      Chicago     USA\n"
          ]
        }
      ]
    },
    {
      "cell_type": "markdown",
      "source": [
        "### Update Operation"
      ],
      "metadata": {
        "id": "Y-R7Dh9LiIqm"
      }
    },
    {
      "cell_type": "code",
      "source": [
        "df.loc[0, \"Age\"] = 12\n",
        "df[\"Age\"] = df[\"Age\"] + 2\n",
        "print(df)"
      ],
      "metadata": {
        "colab": {
          "base_uri": "https://localhost:8080/"
        },
        "id": "5tbhcDv9iuxh",
        "outputId": "3f91774e-a704-4e0b-c3fd-03bd69f13b12"
      },
      "execution_count": 9,
      "outputs": [
        {
          "output_type": "stream",
          "name": "stdout",
          "text": [
            "      Name  Age  Salary           City Country\n",
            "0    Alice   14   10000       New York     USA\n",
            "1      Bob   38   20000  San Francisco      UK\n",
            "2  Charlie   38   30000    Los Angeles  Canada\n",
            "3    David   47   40000        Chicago     USA\n"
          ]
        }
      ]
    },
    {
      "cell_type": "markdown",
      "source": [
        "### Remove data"
      ],
      "metadata": {
        "id": "8owPawlmjy4k"
      }
    },
    {
      "cell_type": "code",
      "source": [
        "df.drop(columns=[\"Country\",\"Salary\"], inplace=True)\n",
        "print(df)"
      ],
      "metadata": {
        "colab": {
          "base_uri": "https://localhost:8080/"
        },
        "id": "gPXPpU-Vj06Q",
        "outputId": "2e0638f5-e231-48c3-dd69-c198feac8eed"
      },
      "execution_count": 14,
      "outputs": [
        {
          "output_type": "stream",
          "name": "stdout",
          "text": [
            "      Name  Age\n",
            "0    Alice   14\n",
            "1      Bob   38\n",
            "2  Charlie   38\n",
            "3    David   47\n"
          ]
        }
      ]
    },
    {
      "cell_type": "markdown",
      "source": [
        "### Handling Missing Data"
      ],
      "metadata": {
        "id": "JGCeXDTelLws"
      }
    },
    {
      "cell_type": "code",
      "source": [
        "# print(df.isnull())\n",
        "print(df.isnull().sum())\n",
        "\n",
        "# df.dropna(axis = 0, inplace=True)\n",
        "# df.dropna(inplace=True) # This will remove missing data along with rows (axis = 0)/ coulumn (axis = 1)\n",
        "\n",
        "# df.fillna(0, inplace=True)\n",
        "df['Age'].fillna(df['Age'].mean(), inplace = True)\n",
        "print(df)"
      ],
      "metadata": {
        "colab": {
          "base_uri": "https://localhost:8080/"
        },
        "id": "G0TUYHgIlN0G",
        "outputId": "7f864240-ce44-4a44-b0c0-645f5398f97a"
      },
      "execution_count": 30,
      "outputs": [
        {
          "output_type": "stream",
          "name": "stdout",
          "text": [
            "Name       1\n",
            "Age        1\n",
            "Salary     1\n",
            "City       1\n",
            "Country    1\n",
            "dtype: int64\n",
            "      Name   Age   Salary         City Country\n",
            "0     None  25.0  10000.0     New York     USA\n",
            "1      Bob  30.0  20000.0         None      UK\n",
            "2  Charlie  35.0      NaN  Los Angeles    None\n",
            "3    David  30.0  40000.0      Chicago     USA\n"
          ]
        },
        {
          "output_type": "stream",
          "name": "stderr",
          "text": [
            "/tmp/ipython-input-30-107240506.py:8: FutureWarning: A value is trying to be set on a copy of a DataFrame or Series through chained assignment using an inplace method.\n",
            "The behavior will change in pandas 3.0. This inplace method will never work because the intermediate object on which we are setting values always behaves as a copy.\n",
            "\n",
            "For example, when doing 'df[col].method(value, inplace=True)', try using 'df.method({col: value}, inplace=True)' or df[col] = df[col].method(value) instead, to perform the operation inplace on the original object.\n",
            "\n",
            "\n",
            "  df['Age'].fillna(df['Age'].mean(), inplace = True)\n"
          ]
        }
      ]
    },
    {
      "cell_type": "markdown",
      "source": [
        "### Interpolation"
      ],
      "metadata": {
        "id": "LmDOMXFuqZT1"
      }
    },
    {
      "cell_type": "code",
      "source": [
        "Stock = {\n",
        "    \"Quantity\" : [1,2,None,4,None],\n",
        "    \"Price\" : [None,200,300,None,500]\n",
        "}\n",
        "\n",
        "df = pd.DataFrame(Stock)\n",
        "print(df)\n",
        "\n",
        "# df['Quantity'] = df['Quantity'].interpolate(method=\"linear\")\n",
        "df.interpolate(method=\"polynomial\", order=2, inplace=True)\n",
        "print(df)"
      ],
      "metadata": {
        "colab": {
          "base_uri": "https://localhost:8080/"
        },
        "id": "Vla4sJmyqbXZ",
        "outputId": "832d9597-281a-4221-ca70-7b91f72fe9ad"
      },
      "execution_count": 33,
      "outputs": [
        {
          "output_type": "stream",
          "name": "stdout",
          "text": [
            "   Quantity  Price\n",
            "0       1.0    NaN\n",
            "1       2.0  200.0\n",
            "2       NaN  300.0\n",
            "3       4.0    NaN\n",
            "4       NaN  500.0\n",
            "   Quantity  Price\n",
            "0       1.0    NaN\n",
            "1       2.0  200.0\n",
            "2       3.0  300.0\n",
            "3       4.0  400.0\n",
            "4       NaN  500.0\n"
          ]
        }
      ]
    },
    {
      "cell_type": "markdown",
      "source": [
        "### Sorting & Aggregation"
      ],
      "metadata": {
        "id": "mFi0dBVXym1d"
      }
    },
    {
      "cell_type": "code",
      "source": [
        "Stock = {\n",
        "    \"Quantity\" : [53,43,46,43],\n",
        "    \"Price\" : [131,533,23,350]\n",
        "}\n",
        "\n",
        "df = pd.DataFrame(Stock)\n",
        "print(df)\n",
        "\n",
        "df.sort_values(by=[\"Quantity\",\"Price\"], ascending = [False,True], inplace = True)\n",
        "print(df)\n",
        "\n",
        "avg_price = df[\"Price\"].mean() #Aggregation\n",
        "print(avg_price)"
      ],
      "metadata": {
        "colab": {
          "base_uri": "https://localhost:8080/"
        },
        "id": "_9_Yxa6aysaz",
        "outputId": "4de62123-e21d-4afb-f3d3-6db94e177cfa"
      },
      "execution_count": 40,
      "outputs": [
        {
          "output_type": "stream",
          "name": "stdout",
          "text": [
            "   Quantity  Price\n",
            "0        53    131\n",
            "1        43    533\n",
            "2        46     23\n",
            "3        43    350\n",
            "   Quantity  Price\n",
            "0        53    131\n",
            "2        46     23\n",
            "3        43    350\n",
            "1        43    533\n",
            "259.25\n"
          ]
        }
      ]
    },
    {
      "cell_type": "markdown",
      "source": [
        "### Group By"
      ],
      "metadata": {
        "id": "SPc9IbfJ1SY0"
      }
    },
    {
      "cell_type": "code",
      "source": [
        "Stock = {\n",
        "    \"Product\" : [\"SmartPhone\", \"Laptop\", \"Tablet\", \"TV\"],\n",
        "    \"Quantity\" : [53,43,46,43],\n",
        "    \"Price\" : [131,533,23,350]\n",
        "}\n",
        "\n",
        "df = pd.DataFrame(Stock)\n",
        "\n",
        "grouped = df.groupby(\"Quantity\")[\"Price\"].sum()\n",
        "grouped = df.groupby([\"Quantity\",\"Product\"])[\"Price\"].sum()\n",
        "print(grouped)"
      ],
      "metadata": {
        "colab": {
          "base_uri": "https://localhost:8080/"
        },
        "id": "FivQcQEk1USN",
        "outputId": "78404506-1eda-4dfc-cace-c02a968b0e46"
      },
      "execution_count": 46,
      "outputs": [
        {
          "output_type": "stream",
          "name": "stdout",
          "text": [
            "Quantity  Product   \n",
            "43        Laptop        533\n",
            "          TV            350\n",
            "46        Tablet         23\n",
            "53        SmartPhone    131\n",
            "Name: Price, dtype: int64\n"
          ]
        }
      ]
    },
    {
      "cell_type": "markdown",
      "source": [
        "### Merging & Joining"
      ],
      "metadata": {
        "id": "Mg4x9sVd3GjO"
      }
    },
    {
      "cell_type": "code",
      "source": [
        "df_customers = pd.DataFrame({\n",
        "    \"CustomerID\": [1, 2, 3, 4],\n",
        "    \"Name\": [\"Alice\", \"Bob\", \"Charlie\", \"David\"]\n",
        "})\n",
        "\n",
        "df_orders = pd.DataFrame({\n",
        "    \"OrderID\": [101, 102, 103, 104],\n",
        "    \"CustomerID\": [1, 2, 5, 6]\n",
        "})\n",
        "\n",
        "# merged_df = pd.merge(df_customers, df_orders, on=\"CustomerID\", how=\"inner\")\n",
        "# merged_df = pd.merge(df_customers, df_orders, on=\"CustomerID\", how=\"outer\")\n",
        "# merged_df = pd.merge(df_customers, df_orders, on=\"CustomerID\", how=\"left\")\n",
        "# merged_df = pd.merge(df_customers, df_orders, on=\"CustomerID\", how=\"right\")\n",
        "merged_df = pd.merge(df_customers, df_orders, how=\"cross\")\n",
        "print(merged_df)\n",
        "\n",
        "# Joining or Concatenating\n",
        "\n",
        "df_customer = pd.DataFrame({\n",
        "    \"CustomerID\": [1, 2, 3, 4],\n",
        "    \"Name\": [\"Alice\", \"Bob\", \"Charlie\", \"David\"]\n",
        "})\n",
        "\n",
        "df_order = pd.DataFrame({\n",
        "    \"CustomerID\": [1, 2, 5, 6],\n",
        "    \"Name\": [\"Alisa\", \"Bruce\", \"Chris\", \"Dravid\"]\n",
        "})\n",
        "\n",
        "# df_concate = pd.concat([df_customer, df_order], axis=0, ignore_index=True)\n",
        "df_concate = pd.concat([df_customer, df_order], axis=1, ignore_index=True)\n",
        "print(df_concate)"
      ],
      "metadata": {
        "colab": {
          "base_uri": "https://localhost:8080/"
        },
        "id": "P1DZweQN3JFl",
        "outputId": "eb1e4560-71ed-4c5b-a141-589e10711b71"
      },
      "execution_count": 57,
      "outputs": [
        {
          "output_type": "stream",
          "name": "stdout",
          "text": [
            "    CustomerID_x     Name  OrderID  CustomerID_y\n",
            "0              1    Alice      101             1\n",
            "1              1    Alice      102             2\n",
            "2              1    Alice      103             5\n",
            "3              1    Alice      104             6\n",
            "4              2      Bob      101             1\n",
            "5              2      Bob      102             2\n",
            "6              2      Bob      103             5\n",
            "7              2      Bob      104             6\n",
            "8              3  Charlie      101             1\n",
            "9              3  Charlie      102             2\n",
            "10             3  Charlie      103             5\n",
            "11             3  Charlie      104             6\n",
            "12             4    David      101             1\n",
            "13             4    David      102             2\n",
            "14             4    David      103             5\n",
            "15             4    David      104             6\n",
            "   0        1  2       3\n",
            "0  1    Alice  1   Alisa\n",
            "1  2      Bob  2   Bruce\n",
            "2  3  Charlie  5   Chris\n",
            "3  4    David  6  Dravid\n"
          ]
        }
      ]
    }
  ]
}